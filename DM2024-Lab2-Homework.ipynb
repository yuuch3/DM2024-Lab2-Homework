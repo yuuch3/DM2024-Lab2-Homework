{
 "cells": [
  {
   "attachments": {
    "5cd90eaa-f6b1-49bb-a733-c514e6c2ffe9.png": {
     "image/png": "[encoded data removed]"
    }
   },
   "cell_type": "markdown",
   "metadata": {},
   "source": [
    "### Student Information\n",
    "Name: 莊智宇\n",
    "\n",
    "Student ID: 113065540\n",
    "\n",
    "GitHub ID: yuuch3\n",
    "\n",
    "Kaggle name: yuuch3\n",
    "\n",
    "Kaggle private scoreboard snapshot:\n",
    "![pic0.png](attachment:5cd90eaa-f6b1-49bb-a733-c514e6c2ffe9.png)"
   ]
  },
  {
   "cell_type": "markdown",
   "metadata": {},
   "source": [
    "---"
   ]
  },
  {
   "cell_type": "markdown",
   "metadata": {},
   "source": [
    "### Instructions"
   ]
  },
  {
   "cell_type": "markdown",
   "metadata": {},
   "source": [
    "1. First: __This part is worth 30% of your grade.__ Do the **take home exercises** in the [DM2024-Lab2-master Repo](https://github.com/didiersalazar/DM2024-Lab2-Master). You may need to copy some cells from the Lab notebook to this notebook. \n",
    "\n",
    "\n",
    "2. Second: __This part is worth 30% of your grade.__ Participate in the in-class [Kaggle Competition](https://www.kaggle.com/competitions/dm-2024-isa-5810-lab-2-homework) regarding Emotion Recognition on Twitter by this link: https://www.kaggle.com/competitions/dm-2024-isa-5810-lab-2-homework. The scoring will be given according to your place in the Private Leaderboard ranking: \n",
    "    - **Bottom 40%**: Get 20% of the 30% available for this section.\n",
    "\n",
    "    - **Top 41% - 100%**: Get (0.6N + 1 - x) / (0.6N) * 10 + 20 points, where N is the total number of participants, and x is your rank. (ie. If there are 100 participants and you rank 3rd your score will be (0.6 * 100 + 1 - 3) / (0.6 * 100) * 10 + 20 = 29.67% out of 30%.)   \n",
    "    Submit your last submission **BEFORE the deadline (Nov. 26th, 11:59 pm, Tuesday)**. Make sure to take a screenshot of your position at the end of the competition and store it as '''pic0.png''' under the **img** folder of this repository and rerun the cell **Student Information**.\n",
    "    \n",
    "\n",
    "3. Third: __This part is worth 30% of your grade.__ A report of your work developing the model for the competition (You can use code and comment on it). This report should include what your preprocessing steps, the feature engineering steps and an explanation of your model. You can also mention different things you tried and insights you gained. \n",
    "\n",
    "\n",
    "4. Fourth: __This part is worth 10% of your grade.__ It's hard for us to follow if your code is messy :'(, so please **tidy up your notebook**.\n",
    "\n",
    "\n",
    "Upload your files to your repository then submit the link to it on the corresponding e-learn assignment.\n",
    "\n",
    "Make sure to commit and save your changes to your repository __BEFORE the deadline (Nov. 26th, 11:59 pm, Tuesday)__. "
   ]
  },
  {
   "cell_type": "code",
   "execution_count": 2,
   "metadata": {},
   "outputs": [],
   "source": [
    "### Begin Assignment Here"
   ]
  },
  {
   "cell_type": "markdown",
   "metadata": {
    "jp-MarkdownHeadingCollapsed": true
   },
   "source": [
    "# First: DM2024-Lab2-master"
   ]
  },
  {
   "cell_type": "markdown",
   "metadata": {},
   "source": [
    "https://github.com/yuuch3/DM2024-Lab2-Master"
   ]
  },
  {
   "cell_type": "markdown",
   "metadata": {},
   "source": [
    "# Second: Kaggle Competition"
   ]
  },
  {
   "cell_type": "markdown",
   "metadata": {},
   "source": [
    "# Third: Model Code"
   ]
  },
  {
   "cell_type": "markdown",
   "metadata": {},
   "source": [
    "Use the BERTweet model: https://github.com/VinAIResearch/BERTweet"
   ]
  },
  {
   "cell_type": "markdown",
   "metadata": {},
   "source": [
    "## 1. Preprocessing"
   ]
  },
  {
   "cell_type": "code",
   "execution_count": null,
   "metadata": {},
   "outputs": [],
   "source": [
    "import pandas as pd\n",
    "import json\n",
    "import re\n",
    "\n",
    "# The BERTweet model has tweets text normalization function.\n",
    "from TweetNormalizer import normalizeTweet"
   ]
  },
  {
   "cell_type": "code",
   "execution_count": null,
   "metadata": {},
   "outputs": [],
   "source": [
    "# Data Path\n",
    "tweets_DM_path = \"./dm-2024-isa-5810-lab-2-homework/tweets_DM.json\"\n",
    "data_identification_path = \"./dm-2024-isa-5810-lab-2-homework/data_identification.csv\"\n",
    "emotion_data_path = \"./dm-2024-isa-5810-lab-2-homework/emotion.csv\""
   ]
  },
  {
   "cell_type": "code",
   "execution_count": null,
   "metadata": {},
   "outputs": [],
   "source": [
    "# Use pandas to read the data\n",
    "data_identification = pd.read_csv(data_identification_path)\n",
    "emo_data = pd.read_csv(emotion_data_path)\n",
    "\n",
    "print(data_identification.head())\n",
    "print(emo_data.head())"
   ]
  },
  {
   "cell_type": "code",
   "execution_count": null,
   "metadata": {},
   "outputs": [],
   "source": [
    "# Split train data and test data\n",
    "train_data = data_identification[data_identification[\"identification\"]==\"train\"]\n",
    "test_data = data_identification[data_identification[\"identification\"]==\"test\"]"
   ]
  },
  {
   "cell_type": "code",
   "execution_count": null,
   "metadata": {},
   "outputs": [],
   "source": [
    "# Merge the train data and emotion data(ground truth labels)\n",
    "train_emotion_data = pd.merge(train_data, emo_data, on='tweet_id', how='inner')\n",
    "train_emotion_data = train_emotion_data.drop(columns=['identification'])\n",
    "\n",
    "print(train_emotion_data.head())"
   ]
  },
  {
   "cell_type": "code",
   "execution_count": null,
   "metadata": {},
   "outputs": [],
   "source": [
    "# Check if there are any missing value\n",
    "print(train_emotion_data.isnull().sum())"
   ]
  },
  {
   "cell_type": "code",
   "execution_count": null,
   "metadata": {},
   "outputs": [],
   "source": [
    "# Load the tweets_DM.json and the tweets text\n",
    "tweets_data = []\n",
    "with open(tweets_DM_path, 'r', encoding='utf-8') as f:\n",
    "    for line in f:\n",
    "        tweets_data.append(json.loads(line.strip())[\"_source\"][\"tweet\"])"
   ]
  },
  {
   "cell_type": "code",
   "execution_count": null,
   "metadata": {},
   "outputs": [],
   "source": [
    "# Change the tweets text to pandas DataFrame\n",
    "tweets_data = pd.DataFrame(tweets_data)\n",
    "print(tweets_data.head())"
   ]
  },
  {
   "cell_type": "code",
   "execution_count": null,
   "metadata": {},
   "outputs": [],
   "source": [
    "# Check if there are any missing value\n",
    "print(tweets_data.isnull().sum())"
   ]
  },
  {
   "cell_type": "code",
   "execution_count": null,
   "metadata": {},
   "outputs": [],
   "source": [
    "# Merge train_emotion_data and tweets_data\n",
    "train_emotion_data = pd.merge(train_emotion_data, tweets_data, on='tweet_id', how='inner')\n",
    "print(train_emotion_data.head())"
   ]
  },
  {
   "cell_type": "code",
   "execution_count": null,
   "metadata": {},
   "outputs": [],
   "source": [
    "# Observe the text data\n",
    "for i in range(0,20):\n",
    "    print(train_emotion_data[\"text\"][i])"
   ]
  },
  {
   "cell_type": "code",
   "execution_count": null,
   "metadata": {},
   "outputs": [],
   "source": [
    "# Remove the <LH> labels, and normalize the tweets text data using the BERTweet model's function\n",
    "for i in range(0, len(train_emotion_data)):\n",
    "    train_emotion_data.loc[i, \"cleaned_text\"] = normalizeTweet(re.sub(r'<LH>', '', train_emotion_data.loc[i, \"text\"]))"
   ]
  },
  {
   "cell_type": "code",
   "execution_count": null,
   "metadata": {},
   "outputs": [],
   "source": [
    "# Observe the text data after preprocessing\n",
    "for i in range(0, 20):\n",
    "    print(train_emotion_data[\"cleaned_text\"][i])"
   ]
  },
  {
   "cell_type": "markdown",
   "metadata": {},
   "source": [
    "## 2. Sentence embedding"
   ]
  },
  {
   "cell_type": "code",
   "execution_count": null,
   "metadata": {},
   "outputs": [],
   "source": [
    "# Define the hyperparameters\n",
    "lr = 1e-5\n",
    "epochs = 3\n",
    "batch_size = 64\n",
    "emotion_num = 8"
   ]
  },
  {
   "cell_type": "code",
   "execution_count": null,
   "metadata": {},
   "outputs": [],
   "source": [
    "# Define the dictionary of emotions\n",
    "emotion_map = {\n",
    "    'anger': 0,\n",
    "    'anticipation': 1,\n",
    "    'disgust': 2,\n",
    "    'fear': 3,\n",
    "    'sadness': 4,\n",
    "    'surprise': 5,\n",
    "    'trust': 6,\n",
    "    'joy': 7\n",
    "}\n",
    "\n",
    "emotion_map_2 = {\n",
    "    0: 'anger',\n",
    "    1: 'anticipation',\n",
    "    2: 'disgust',\n",
    "    3: 'fear',\n",
    "    4: 'sadness',\n",
    "    5: 'surprise',\n",
    "    6: 'trust',\n",
    "    7: 'joy'\n",
    "}"
   ]
  },
  {
   "cell_type": "code",
   "execution_count": null,
   "metadata": {},
   "outputs": [],
   "source": [
    "import transformers\n",
    "\n",
    "tokenizer = transformers.AutoTokenizer.from_pretrained(\"vinai/bertweet-base\", cache_dir=\"./cache/\")"
   ]
  },
  {
   "cell_type": "code",
   "execution_count": null,
   "metadata": {},
   "outputs": [],
   "source": [
    "# Define the dataset\n",
    "import torch\n",
    "from torch.utils.data import DataLoader\n",
    "\n",
    "class Dataset(torch.utils.data.Dataset):\n",
    "    def __init__(self, data):\n",
    "        self.data = data\n",
    "\n",
    "    def __len__(self):\n",
    "        return len(self.data)\n",
    "\n",
    "    def __getitem__(self, index):\n",
    "        d = self.data.iloc[index]\n",
    "        return d"
   ]
  },
  {
   "cell_type": "code",
   "execution_count": null,
   "metadata": {},
   "outputs": [],
   "source": [
    "# Define the collate_fn, and set the max_length=128 because of the limit of vinai/bertweet-base model.\n",
    "def collate_fn(batch):\n",
    "\n",
    "    batch_sentence = tokenizer([data[\"cleaned_text\"] for data in batch], truncation=True, padding=True, return_tensors=\"pt\", max_length=128)\n",
    "    batch_emotion = torch.tensor([emotion_map[data[\"emotion\"]] for data in batch]).unsqueeze(1)\n",
    "\n",
    "    return batch_sentence, batch_emotion\n",
    "    \n",
    "dl_train = DataLoader(Dataset(train_emotion_data[[\"emotion\", \"cleaned_text\"]]), batch_size=batch_size, collate_fn=collate_fn)"
   ]
  },
  {
   "cell_type": "markdown",
   "metadata": {},
   "source": [
    "## 3. Model train"
   ]
  },
  {
   "cell_type": "code",
   "execution_count": null,
   "metadata": {},
   "outputs": [],
   "source": [
    "# Use GPU to train the model\n",
    "device = \"cuda\" if torch.cuda.is_available() else \"cpu\"\n",
    "model = transformers.AutoModelForSequenceClassification.from_pretrained(\"vinai/bertweet-base\", num_labels=emotion_num, cache_dir=\"./cache/\").to(device)"
   ]
  },
  {
   "cell_type": "code",
   "execution_count": null,
   "metadata": {},
   "outputs": [],
   "source": [
    "# Set the optimizer(AdamW) and criterion(CrossEntropyLoss)\n",
    "optimizer = torch.optim.AdamW(model.parameters(), lr=lr)\n",
    "criterion = torch.nn.CrossEntropyLoss()"
   ]
  },
  {
   "cell_type": "code",
   "execution_count": null,
   "metadata": {},
   "outputs": [],
   "source": [
    "# Start to train the model\n",
    "from tqdm import tqdm\n",
    "\n",
    "for ep in range(epochs):\n",
    "    pbar = tqdm(dl_train)\n",
    "    pbar.set_description(f\"Training epoch [{ep+1}/{epochs}]\")\n",
    "    model.train()\n",
    "\n",
    "    for batch_sentence, batch_emotion in pbar:\n",
    "\n",
    "        optimizer.zero_grad()\n",
    "\n",
    "        # Move data to device\n",
    "        batch_sentence.to(device)\n",
    "\n",
    "        output_emo = model(**batch_sentence)\n",
    "\n",
    "        loss = criterion(output_emo.logits, batch_emotion.view(-1).to(device))\n",
    "\n",
    "        loss.backward()\n",
    "\n",
    "        optimizer.step()"
   ]
  },
  {
   "cell_type": "markdown",
   "metadata": {},
   "source": [
    "## 4. Prediction"
   ]
  },
  {
   "cell_type": "code",
   "execution_count": null,
   "metadata": {},
   "outputs": [],
   "source": [
    "# Merge test_data and tweets_data\n",
    "test_emotion_data = pd.merge(test_data, tweets_data, on='tweet_id', how='inner')\n",
    "test_emotion_data = test_emotion_data.drop(columns=['identification'])"
   ]
  },
  {
   "cell_type": "code",
   "execution_count": null,
   "metadata": {},
   "outputs": [],
   "source": [
    "# Remove the <LH> labels, and normalize the tweets text data using the BERTweet model's function\n",
    "for i in range(0, len(test_emotion_data)):\n",
    "    test_emotion_data.loc[i, \"cleaned_text\"] = normalizeTweet(re.sub(r'<LH>', '', test_emotion_data.loc[i, \"text\"]))"
   ]
  },
  {
   "cell_type": "code",
   "execution_count": null,
   "metadata": {},
   "outputs": [],
   "source": [
    "# Observe the text data after preprocessing\n",
    "for i in range(0, 20):\n",
    "    print(test_emotion_data[\"cleaned_text\"][i])"
   ]
  },
  {
   "cell_type": "code",
   "execution_count": null,
   "metadata": {},
   "outputs": [],
   "source": [
    "# Define the collate_fn_test(no ground truth data), and set the max_length=128 because of the limit of vinai/bertweet-base model.\n",
    "def collate_fn_test(batch):\n",
    "\n",
    "    batch_sentence = tokenizer([data[\"cleaned_text\"] for data in batch], truncation=True, padding=True, return_tensors=\"pt\", max_length=512)\n",
    "\n",
    "    return batch_sentence\n",
    "\n",
    "dl_test = DataLoader(Dataset(test_emotion_data[[\"cleaned_text\"]]), batch_size=batch_size, collate_fn=collate_fn_test)"
   ]
  },
  {
   "cell_type": "code",
   "execution_count": null,
   "metadata": {},
   "outputs": [],
   "source": [
    "# Predict\n",
    "test_emo_pred = []\n",
    "\n",
    "pbar = tqdm(dl_test)\n",
    "pbar.set_description(f\"Test epoch\")\n",
    "model.eval()\n",
    "\n",
    "with torch.no_grad():\n",
    "\n",
    "  for batch_sentence in pbar:\n",
    "\n",
    "    batch_sentence.to(device)\n",
    "\n",
    "    output_test = model(**batch_sentence)\n",
    "    predictions = torch.argmax(output_test.logits, dim=-1)\n",
    "    test_emo_pred.extend([emotion_map_2[pred.item()] for pred in predictions])"
   ]
  },
  {
   "cell_type": "code",
   "execution_count": null,
   "metadata": {},
   "outputs": [],
   "source": [
    "# Generate the submission file\n",
    "test_emotion_data[\"emotion\"] = test_emo_pred\n",
    "test_emotion_data_final = test_emotion_data.drop(columns=[\"hashtags\", \"text\", \"cleaned_text\"])\n",
    "test_emotion_data_final = test_emotion_data_final.rename(columns={\"tweet_id\":\"id\"})\n",
    "test_emotion_data_final.to_csv(\"./dm-2024-isa-5810-lab-2-homework/output.csv\", index=False, encoding='utf-8')"
   ]
  }
 ],
 "metadata": {
  "kernelspec": {
   "display_name": "Python 3 (ipykernel)",
   "language": "python",
   "name": "python3"
  },
  "language_info": {
   "codemirror_mode": {
    "name": "ipython",
    "version": 3
   },
   "file_extension": ".py",
   "mimetype": "text/x-python",
   "name": "python",
   "nbconvert_exporter": "python",
   "pygments_lexer": "ipython3",
   "version": "3.9.6"
  },
  "varInspector": {
   "cols": {
    "lenName": 16,
    "lenType": 16,
    "lenVar": 40
   },
   "kernels_config": {
    "python": {
     "delete_cmd_postfix": "",
     "delete_cmd_prefix": "del ",
     "library": "var_list.py",
     "varRefreshCmd": "print(var_dic_list())"
    },
    "r": {
     "delete_cmd_postfix": ") ",
     "delete_cmd_prefix": "rm(",
     "library": "var_list.r",
     "varRefreshCmd": "cat(var_dic_list()) "
    }
   },
   "types_to_exclude": [
    "module",
    "function",
    "builtin_function_or_method",
    "instance",
    "_Feature"
   ],
   "window_display": false
  }
 },
 "nbformat": 4,
 "nbformat_minor": 4
}
